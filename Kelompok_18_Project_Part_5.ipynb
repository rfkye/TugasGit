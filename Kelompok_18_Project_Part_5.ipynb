{
  "nbformat": 4,
  "nbformat_minor": 0,
  "metadata": {
    "colab": {
      "provenance": [],
      "include_colab_link": true
    },
    "kernelspec": {
      "name": "python3",
      "display_name": "Python 3"
    },
    "language_info": {
      "name": "python"
    }
  },
  "cells": [
    {
      "cell_type": "markdown",
      "metadata": {
        "id": "view-in-github",
        "colab_type": "text"
      },
      "source": [
        "<a href=\"https://colab.research.google.com/github/rfkye/TugasGit/blob/main/Kelompok_18_Project_Part_5.ipynb\" target=\"_parent\"><img src=\"https://colab.research.google.com/assets/colab-badge.svg\" alt=\"Open In Colab\"/></a>"
      ]
    },
    {
      "cell_type": "markdown",
      "source": [
        "DW DIBIMBING KELOMPOK 18\n",
        "\n",
        "Hakim Zoelva Mahesa\n",
        "\n",
        "Agym Nastiar Arman\n",
        "\n",
        "Putri Aulia Angelina\n",
        "\n",
        "Muh. Rifky Efendi"
      ],
      "metadata": {
        "id": "oAnC2gmXVdGg"
      }
    },
    {
      "cell_type": "markdown",
      "source": [],
      "metadata": {
        "id": "PNdCehg-5IcY"
      }
    },
    {
      "cell_type": "markdown",
      "source": [
        "Buatlah class MarketingDataETL yang memiliki tiga metode:\n",
        "\n",
        "extract(): akan membaca data dari sebuah file CSV (Misalkan, marketing_data.csv)\n",
        "\n",
        "transform(): akan melakukan pembersihan dan transformasi sederhana pada data (seperti mengubah format tanggal atau membersihkan nilai yang kosong)\n",
        "\n",
        "store(): akan menyimpan data yang telah ditransformasi ke dalam struktur data DataFramet.\n"
      ],
      "metadata": {
        "id": "PnfPTmDg5InL"
      }
    },
    {
      "cell_type": "markdown",
      "source": [
        "***TASK #1***"
      ],
      "metadata": {
        "id": "BnAp2SDGVmy5"
      }
    },
    {
      "cell_type": "code",
      "source": [
        "import pandas as pd\n",
        "\n",
        "class MarketingDataETL:\n",
        "    def __init__(self):\n",
        "        pass\n",
        "\n",
        "    def extract(self, file_CSV):\n",
        "        try:\n",
        "            # Membaca file csv\n",
        "            df = pd.read_csv(file_CSV, sep=';')\n",
        "            return df\n",
        "        except FileNotFoundError:\n",
        "            print(\"File anda tidak ditemukan.\")\n",
        "            return None\n",
        "\n",
        "    def transform(self, data):\n",
        "        # Melihat struktur dataframe\n",
        "        print(\"Struktur DataFrame:\")\n",
        "        print(data)\n",
        "\n",
        "        # Melihat info dari dataframe\n",
        "        print(\"\\nInfo DataFrame:\")\n",
        "        print(data.info())\n",
        "\n",
        "        # Sorting data menurut customer id\n",
        "        data.sort_values(by='customer_id', inplace=True)\n",
        "\n",
        "        # Mengecek dan menghilangkan data kosong\n",
        "        print(\"\\nData missing:\")\n",
        "        print(data.isnull().sum())\n",
        "\n",
        "        data.dropna(inplace=True)\n",
        "\n",
        "        # Menghilangkan duplicate baris\n",
        "        data.drop_duplicates(inplace=True)\n",
        "\n",
        "        #Mengubah format tanggal\n",
        "        data['purchase_date'] = pd.to_datetime(data['purchase_date'], format='%d/%m/%y')\n",
        "\n",
        "        return data\n",
        "\n",
        "    def store(self, transformed_data, output_file):\n",
        "        try:\n",
        "            transformed_data.to_csv(output_file, index=False)\n",
        "            print(\"Data yang telah ditransformasi disimpan dalam file '{}'.\".format(output_file))\n",
        "        except Exception as e:\n",
        "            print(\"Terjadi kesalahan saat menyimpan data yang diubah:\", e)"
      ],
      "metadata": {
        "id": "mXqD_3VTkLRn"
      },
      "execution_count": null,
      "outputs": []
    },
    {
      "cell_type": "code",
      "source": [
        "file_CSV = \"marketing_data.csv\"\n",
        "etl = MarketingDataETL()\n",
        "data = etl.extract(file_CSV)\n",
        "print(\"\\nData sebelum transformasi:\")\n",
        "print(data)\n",
        "\n",
        "transformed_data = etl.transform(data)\n",
        "print(\"\\nData setelah transformasi:\")\n",
        "print(transformed_data)\n"
      ],
      "metadata": {
        "colab": {
          "base_uri": "https://localhost:8080/"
        },
        "id": "cme0v0Kmkb2_",
        "outputId": "8ae037f1-19f6-4c3e-e3cb-d4e45b3a098f"
      },
      "execution_count": null,
      "outputs": [
        {
          "output_type": "stream",
          "name": "stdout",
          "text": [
            "\n",
            "Data sebelum transformasi:\n",
            "  customer_id purchase_date product_category  amount_spent\n",
            "0        C001      01/03/23      Electronics        250.00\n",
            "1        C002      02/03/23            Books         45.50\n",
            "2        C003      03/03/23    Home & Garden        150.75\n",
            "3        C001      04/03/23            Books         20.00\n",
            "4        C002      05/03/23      Electronics        525.00\n",
            "5        C004           NaN      Electronics        399.99\n",
            "6        C003           NaN            Books         10.50\n",
            "7        C005      07/03/23           Beauty         75.00\n",
            "Struktur DataFrame:\n",
            "  customer_id purchase_date product_category  amount_spent\n",
            "0        C001      01/03/23      Electronics        250.00\n",
            "1        C002      02/03/23            Books         45.50\n",
            "2        C003      03/03/23    Home & Garden        150.75\n",
            "3        C001      04/03/23            Books         20.00\n",
            "4        C002      05/03/23      Electronics        525.00\n",
            "5        C004           NaN      Electronics        399.99\n",
            "6        C003           NaN            Books         10.50\n",
            "7        C005      07/03/23           Beauty         75.00\n",
            "\n",
            "Info DataFrame:\n",
            "<class 'pandas.core.frame.DataFrame'>\n",
            "RangeIndex: 8 entries, 0 to 7\n",
            "Data columns (total 4 columns):\n",
            " #   Column            Non-Null Count  Dtype  \n",
            "---  ------            --------------  -----  \n",
            " 0   customer_id       8 non-null      object \n",
            " 1   purchase_date     6 non-null      object \n",
            " 2   product_category  8 non-null      object \n",
            " 3   amount_spent      8 non-null      float64\n",
            "dtypes: float64(1), object(3)\n",
            "memory usage: 384.0+ bytes\n",
            "None\n",
            "\n",
            "Data missing:\n",
            "customer_id         0\n",
            "purchase_date       2\n",
            "product_category    0\n",
            "amount_spent        0\n",
            "dtype: int64\n",
            "\n",
            "Data setelah transformasi:\n",
            "  customer_id purchase_date product_category  amount_spent\n",
            "0        C001    2023-03-01      Electronics        250.00\n",
            "3        C001    2023-03-04            Books         20.00\n",
            "1        C002    2023-03-02            Books         45.50\n",
            "4        C002    2023-03-05      Electronics        525.00\n",
            "2        C003    2023-03-03    Home & Garden        150.75\n",
            "7        C005    2023-03-07           Beauty         75.00\n"
          ]
        }
      ]
    },
    {
      "cell_type": "code",
      "source": [
        "stored_data = etl.store(transformed_data, \"transformed_data.csv\")\n",
        "print(stored_data)"
      ],
      "metadata": {
        "colab": {
          "base_uri": "https://localhost:8080/"
        },
        "id": "Apa6gJF4IeVe",
        "outputId": "e1c73af1-527e-4c21-9954-3587ab76f807"
      },
      "execution_count": null,
      "outputs": [
        {
          "output_type": "stream",
          "name": "stdout",
          "text": [
            "Data yang telah ditransformasi disimpan dalam file 'transformed_data.csv'.\n",
            "None\n"
          ]
        }
      ]
    },
    {
      "cell_type": "markdown",
      "source": [
        "***TASK #2***"
      ],
      "metadata": {
        "id": "fxlbdUm4Vq1X"
      }
    },
    {
      "cell_type": "markdown",
      "source": [
        "Gunakan inheritance untuk membuat class TargetedMarketingETL yang mewarisi dari MarketingDataETL.\n",
        "\n",
        "Tambahkan metode segment_customers() yang mengelompokkan pelanggan berdasarkan kriteria tertentu (misalnya, pengeluaran total atau kategori produk yang dibeli).\n",
        "\n",
        "Demonstrasi polymorphism dengan meng-override metode transform() dalam TargetedMarketingETL untuk menambahkan logika segmentasi pelanggan ke dalam proses transformasi.\n"
      ],
      "metadata": {
        "id": "8LbaMpb55Uxq"
      }
    },
    {
      "cell_type": "code",
      "source": [
        "import pandas as pd"
      ],
      "metadata": {
        "id": "c1DJZAQpe73a"
      },
      "execution_count": null,
      "outputs": []
    },
    {
      "cell_type": "code",
      "source": [
        "class TargetedMarketingETL(MarketingDataETL):\n",
        "    def _init_(self):\n",
        "        super()._init_()\n",
        "\n",
        "    def segment_customers(self, data, criteria):\n",
        "        segmented_data = data.groupby(criteria)['customer_id'].apply(list)\n",
        "        return segmented_data\n",
        "    def transform(self, data):\n",
        "        transformed_data = super().transform(data)\n",
        "        criteria = 'product_category'\n",
        "        segmented_data = self.segment_customers(transformed_data, criteria)\n",
        "        transformed_data['segmented_customers'] = transformed_data['product_category'].map(segmented_data)\n",
        "\n",
        "        return transformed_data"
      ],
      "metadata": {
        "id": "2aQz6KLNP-8v"
      },
      "execution_count": null,
      "outputs": []
    },
    {
      "cell_type": "code",
      "source": [
        "targeted_etl = TargetedMarketingETL()\n",
        "\n",
        "segmented_data = targeted_etl.segment_customers(data, 'product_category')\n",
        "\n",
        "print(\"\\nHasil Segmentasi Pelanggan:\")\n",
        "for category, customers in segmented_data.items():\n",
        "    print(\"Kategori {}: {}\".format(category, customers))"
      ],
      "metadata": {
        "id": "fIyJDdfjl6jo",
        "colab": {
          "base_uri": "https://localhost:8080/"
        },
        "outputId": "6ef6a816-2ed1-4c33-fb19-9a071dbf7f2e"
      },
      "execution_count": null,
      "outputs": [
        {
          "output_type": "stream",
          "name": "stdout",
          "text": [
            "\n",
            "Hasil Segmentasi Pelanggan:\n",
            "Kategori Beauty: ['C005']\n",
            "Kategori Books: ['C001', 'C002']\n",
            "Kategori Electronics: ['C001', 'C002']\n",
            "Kategori Home & Garden: ['C003']\n"
          ]
        }
      ]
    },
    {
      "cell_type": "code",
      "source": [
        "file_CSV = \"marketing_data.csv\"\n",
        "etl = MarketingDataETL()\n",
        "data = etl.extract(file_CSV)\n",
        "print(\"\\nData sebelum transformasi:\")\n",
        "print(data)\n",
        "\n",
        "transformed_data = etl.transform(data)\n",
        "print(\"\\nData setelah transformasi:\")\n",
        "print(transformed_data)\n",
        "\n",
        "targeted_etl = TargetedMarketingETL()\n",
        "segmented_data = targeted_etl.segment_customers(transformed_data, 'product_category')\n",
        "\n",
        "print(\"\\nHasil Segmentasi Pelanggan:\")\n",
        "for category, customers in segmented_data.items():\n",
        "    print(\"Kategori {}: {}\".format(category, customers))\n",
        "\n",
        "# Memanggil metode transform yang dioverride dalam TargetedMarketingETL\n",
        "transformed_data_targeted = targeted_etl.transform(data)\n",
        "print(\"\\nData setelah transformasi dengan segmentasi pelanggan:\")\n",
        "print(transformed_data_targeted)"
      ],
      "metadata": {
        "colab": {
          "base_uri": "https://localhost:8080/"
        },
        "id": "ag7Ql_QaSs65",
        "outputId": "73b78133-945a-4ab0-f7d0-59a2e47fac4f"
      },
      "execution_count": null,
      "outputs": [
        {
          "output_type": "stream",
          "name": "stdout",
          "text": [
            "\n",
            "Data sebelum transformasi:\n",
            "  customer_id purchase_date product_category  amount_spent\n",
            "0        C001      01/03/23      Electronics        250.00\n",
            "1        C002      02/03/23            Books         45.50\n",
            "2        C003      03/03/23    Home & Garden        150.75\n",
            "3        C001      04/03/23            Books         20.00\n",
            "4        C002      05/03/23      Electronics        525.00\n",
            "5        C004           NaN      Electronics        399.99\n",
            "6        C003           NaN            Books         10.50\n",
            "7        C005      07/03/23           Beauty         75.00\n",
            "Struktur DataFrame:\n",
            "  customer_id purchase_date product_category  amount_spent\n",
            "0        C001      01/03/23      Electronics        250.00\n",
            "1        C002      02/03/23            Books         45.50\n",
            "2        C003      03/03/23    Home & Garden        150.75\n",
            "3        C001      04/03/23            Books         20.00\n",
            "4        C002      05/03/23      Electronics        525.00\n",
            "5        C004           NaN      Electronics        399.99\n",
            "6        C003           NaN            Books         10.50\n",
            "7        C005      07/03/23           Beauty         75.00\n",
            "\n",
            "Info DataFrame:\n",
            "<class 'pandas.core.frame.DataFrame'>\n",
            "RangeIndex: 8 entries, 0 to 7\n",
            "Data columns (total 4 columns):\n",
            " #   Column            Non-Null Count  Dtype  \n",
            "---  ------            --------------  -----  \n",
            " 0   customer_id       8 non-null      object \n",
            " 1   purchase_date     6 non-null      object \n",
            " 2   product_category  8 non-null      object \n",
            " 3   amount_spent      8 non-null      float64\n",
            "dtypes: float64(1), object(3)\n",
            "memory usage: 384.0+ bytes\n",
            "None\n",
            "\n",
            "Data missing:\n",
            "customer_id         0\n",
            "purchase_date       2\n",
            "product_category    0\n",
            "amount_spent        0\n",
            "dtype: int64\n",
            "\n",
            "Data setelah transformasi:\n",
            "  customer_id purchase_date product_category  amount_spent\n",
            "0        C001    2023-03-01      Electronics        250.00\n",
            "3        C001    2023-03-04            Books         20.00\n",
            "1        C002    2023-03-02            Books         45.50\n",
            "4        C002    2023-03-05      Electronics        525.00\n",
            "2        C003    2023-03-03    Home & Garden        150.75\n",
            "7        C005    2023-03-07           Beauty         75.00\n",
            "\n",
            "Hasil Segmentasi Pelanggan:\n",
            "Kategori Beauty: ['C005']\n",
            "Kategori Books: ['C001', 'C002']\n",
            "Kategori Electronics: ['C001', 'C002']\n",
            "Kategori Home & Garden: ['C003']\n",
            "Struktur DataFrame:\n",
            "  customer_id purchase_date product_category  amount_spent\n",
            "0        C001    2023-03-01      Electronics        250.00\n",
            "3        C001    2023-03-04            Books         20.00\n",
            "1        C002    2023-03-02            Books         45.50\n",
            "4        C002    2023-03-05      Electronics        525.00\n",
            "2        C003    2023-03-03    Home & Garden        150.75\n",
            "7        C005    2023-03-07           Beauty         75.00\n",
            "\n",
            "Info DataFrame:\n",
            "<class 'pandas.core.frame.DataFrame'>\n",
            "Int64Index: 6 entries, 0 to 7\n",
            "Data columns (total 4 columns):\n",
            " #   Column            Non-Null Count  Dtype         \n",
            "---  ------            --------------  -----         \n",
            " 0   customer_id       6 non-null      object        \n",
            " 1   purchase_date     6 non-null      datetime64[ns]\n",
            " 2   product_category  6 non-null      object        \n",
            " 3   amount_spent      6 non-null      float64       \n",
            "dtypes: datetime64[ns](1), float64(1), object(2)\n",
            "memory usage: 240.0+ bytes\n",
            "None\n",
            "\n",
            "Data missing:\n",
            "customer_id         0\n",
            "purchase_date       0\n",
            "product_category    0\n",
            "amount_spent        0\n",
            "dtype: int64\n",
            "\n",
            "Data setelah transformasi dengan segmentasi pelanggan:\n",
            "  customer_id purchase_date product_category  amount_spent segmented_customers\n",
            "0        C001    2023-03-01      Electronics        250.00        [C001, C002]\n",
            "3        C001    2023-03-04            Books         20.00        [C001, C002]\n",
            "1        C002    2023-03-02            Books         45.50        [C001, C002]\n",
            "4        C002    2023-03-05      Electronics        525.00        [C001, C002]\n",
            "2        C003    2023-03-03    Home & Garden        150.75              [C003]\n",
            "7        C005    2023-03-07           Beauty         75.00              [C005]\n"
          ]
        }
      ]
    }
  ]
}